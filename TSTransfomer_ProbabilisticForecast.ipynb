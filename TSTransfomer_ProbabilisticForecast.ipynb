{
  "cells": [
    {
      "cell_type": "markdown",
      "metadata": {
        "id": "view-in-github",
        "colab_type": "text"
      },
      "source": [
        "<a href=\"https://colab.research.google.com/github/claudeshyaka/master-project-repo/blob/main/TSTransfomer_ProbabilisticForecast.ipynb\" target=\"_parent\"><img src=\"https://colab.research.google.com/assets/colab-badge.svg\" alt=\"Open In Colab\"/></a>"
      ]
    },
    {
      "cell_type": "markdown",
      "source": [
        "# Time Series Transformer - Probabilistic Forecast"
      ],
      "metadata": {
        "id": "fmh3XkYxkirN"
      }
    },
    {
      "cell_type": "markdown",
      "source": [
        "## Load Dependencies"
      ],
      "metadata": {
        "id": "3khjVH5TTCXe"
      }
    },
    {
      "cell_type": "code",
      "execution_count": 1,
      "metadata": {
        "colab": {
          "base_uri": "https://localhost:8080/"
        },
        "id": "kGfKxrlCrE5d",
        "outputId": "d844d6d6-d510-4e45-beb8-71f957151273"
      },
      "outputs": [
        {
          "output_type": "stream",
          "name": "stdout",
          "text": [
            "Mounted at /content/drive\n"
          ]
        }
      ],
      "source": [
        "# Load the Drive helper and mount\n",
        "from google.colab import drive\n",
        "\n",
        "# This will prompt for authorization.\n",
        "drive.mount('/content/drive')"
      ]
    },
    {
      "cell_type": "code",
      "execution_count": 2,
      "metadata": {
        "id": "g-T4EgVjUarP",
        "colab": {
          "base_uri": "https://localhost:8080/"
        },
        "outputId": "1e638127-65a5-4201-ca7c-087a07f01cf3"
      },
      "outputs": [
        {
          "output_type": "stream",
          "name": "stdout",
          "text": [
            "\u001b[?25l     \u001b[90m━━━━━━━━━━━━━━━━━━━━━━━━━━━━━━━━━━━━━━━━\u001b[0m \u001b[32m0.0/1.5 MB\u001b[0m \u001b[31m?\u001b[0m eta \u001b[36m-:--:--\u001b[0m\r\u001b[2K     \u001b[91m━━━━━━\u001b[0m\u001b[91m╸\u001b[0m\u001b[90m━━━━━━━━━━━━━━━━━━━━━━━━━━━━━━━━━\u001b[0m \u001b[32m0.3/1.5 MB\u001b[0m \u001b[31m7.6 MB/s\u001b[0m eta \u001b[36m0:00:01\u001b[0m\r\u001b[2K     \u001b[91m━━━━━━━━━━━━━━━━━━━━━━━━━━━━━━━━━━━━━━━\u001b[0m\u001b[91m╸\u001b[0m \u001b[32m1.5/1.5 MB\u001b[0m \u001b[31m22.4 MB/s\u001b[0m eta \u001b[36m0:00:01\u001b[0m\r\u001b[2K     \u001b[90m━━━━━━━━━━━━━━━━━━━━━━━━━━━━━━━━━━━━━━━━\u001b[0m \u001b[32m1.5/1.5 MB\u001b[0m \u001b[31m17.4 MB/s\u001b[0m eta \u001b[36m0:00:00\u001b[0m\n",
            "\u001b[2K     \u001b[90m━━━━━━━━━━━━━━━━━━━━━━━━━━━━━━━━━━━━━━\u001b[0m \u001b[32m486.2/486.2 kB\u001b[0m \u001b[31m29.7 MB/s\u001b[0m eta \u001b[36m0:00:00\u001b[0m\n",
            "\u001b[2K     \u001b[90m━━━━━━━━━━━━━━━━━━━━━━━━━━━━━━━━━━━━━━━━\u001b[0m \u001b[32m7.2/7.2 MB\u001b[0m \u001b[31m83.6 MB/s\u001b[0m eta \u001b[36m0:00:00\u001b[0m\n",
            "\u001b[2K     \u001b[90m━━━━━━━━━━━━━━━━━━━━━━━━━━━━━━━━━━━━━━━━\u001b[0m \u001b[32m81.4/81.4 kB\u001b[0m \u001b[31m6.7 MB/s\u001b[0m eta \u001b[36m0:00:00\u001b[0m\n",
            "\u001b[2K     \u001b[90m━━━━━━━━━━━━━━━━━━━━━━━━━━━━━━━━━━━━━━\u001b[0m \u001b[32m227.6/227.6 kB\u001b[0m \u001b[31m17.8 MB/s\u001b[0m eta \u001b[36m0:00:00\u001b[0m\n",
            "\u001b[2K     \u001b[90m━━━━━━━━━━━━━━━━━━━━━━━━━━━━━━━━━━━━━━━━\u001b[0m \u001b[32m53.9/53.9 kB\u001b[0m \u001b[31m4.9 MB/s\u001b[0m eta \u001b[36m0:00:00\u001b[0m\n",
            "\u001b[2K     \u001b[90m━━━━━━━━━━━━━━━━━━━━━━━━━━━━━━━━━━━━━━━\u001b[0m \u001b[32m110.5/110.5 kB\u001b[0m \u001b[31m9.9 MB/s\u001b[0m eta \u001b[36m0:00:00\u001b[0m\n",
            "\u001b[2K     \u001b[90m━━━━━━━━━━━━━━━━━━━━━━━━━━━━━━━━━━━━━━\u001b[0m \u001b[32m212.5/212.5 kB\u001b[0m \u001b[31m17.4 MB/s\u001b[0m eta \u001b[36m0:00:00\u001b[0m\n",
            "\u001b[2K     \u001b[90m━━━━━━━━━━━━━━━━━━━━━━━━━━━━━━━━━━━━━━\u001b[0m \u001b[32m134.3/134.3 kB\u001b[0m \u001b[31m10.2 MB/s\u001b[0m eta \u001b[36m0:00:00\u001b[0m\n",
            "\u001b[2K     \u001b[90m━━━━━━━━━━━━━━━━━━━━━━━━━━━━━━━━━━━━━━\u001b[0m \u001b[32m268.8/268.8 kB\u001b[0m \u001b[31m19.8 MB/s\u001b[0m eta \u001b[36m0:00:00\u001b[0m\n",
            "\u001b[2K     \u001b[90m━━━━━━━━━━━━━━━━━━━━━━━━━━━━━━━━━━━━━━━━\u001b[0m \u001b[32m7.8/7.8 MB\u001b[0m \u001b[31m84.5 MB/s\u001b[0m eta \u001b[36m0:00:00\u001b[0m\n",
            "\u001b[2K     \u001b[90m━━━━━━━━━━━━━━━━━━━━━━━━━━━━━━━━━━━━━━━━\u001b[0m \u001b[32m1.3/1.3 MB\u001b[0m \u001b[31m55.3 MB/s\u001b[0m eta \u001b[36m0:00:00\u001b[0m\n",
            "\u001b[?25h"
          ]
        }
      ],
      "source": [
        "!pip install -q gluonts datasets transformers evaluate accelerate gluonts ujson"
      ]
    },
    {
      "cell_type": "code",
      "execution_count": 3,
      "metadata": {
        "id": "wD1LseivrI6l"
      },
      "outputs": [],
      "source": [
        "import os\n",
        "import shutil\n",
        "import numpy as np\n",
        "import pandas as pd\n",
        "import tempfile\n",
        "import random\n",
        "import matplotlib.pyplot as plt\n",
        "\n",
        "from gluonts.dataset.field_names import FieldName\n",
        "from gluonts.dataset.common import ListDataset\n"
      ]
    },
    {
      "cell_type": "markdown",
      "source": [
        "## Data (Per-unit Voltage Magnitude)\n"
      ],
      "metadata": {
        "id": "9u-_3_VQk49q"
      }
    },
    {
      "cell_type": "markdown",
      "source": [
        "### Dataset\n",
        "\n",
        "*   This dataset resulted from running powerflow analysis on a network from the Simbench dataset which contains 372 buses.\n",
        "*   The data corresponds to the per-unit voltage magnitude at each bus recorded every 15 minutes during the span of one year."
      ],
      "metadata": {
        "id": "sOZVdRvXmHAp"
      }
    },
    {
      "cell_type": "code",
      "execution_count": 4,
      "metadata": {
        "colab": {
          "base_uri": "https://localhost:8080/",
          "height": 300
        },
        "id": "4wxeMHcirVLg",
        "outputId": "b56e4707-2f31-4efd-95d7-36eff18c26e8"
      },
      "outputs": [
        {
          "output_type": "execute_result",
          "data": {
            "text/plain": [
              "     0      1      2      3      4         5         6         7         8    \\\n",
              "0  1.068  1.068  1.068  1.068  1.068  1.085174  1.085174  1.085174  1.085174   \n",
              "1  1.068  1.068  1.068  1.068  1.068  1.082818  1.082818  1.082818  1.082818   \n",
              "2  1.068  1.068  1.068  1.068  1.068  1.083136  1.083136  1.083136  1.083136   \n",
              "3  1.068  1.068  1.068  1.068  1.068  1.085062  1.085062  1.085062  1.085062   \n",
              "4  1.068  1.068  1.068  1.068  1.068  1.084615  1.084615  1.084615  1.084615   \n",
              "\n",
              "        9    ...       362       363       364       365       366       367  \\\n",
              "0  1.085174  ...  1.095028  1.095028  1.095028  1.085090  1.085090  1.085090   \n",
              "1  1.082818  ...  1.091864  1.091864  1.091864  1.082738  1.082738  1.082738   \n",
              "2  1.083136  ...  1.091992  1.091992  1.091992  1.083066  1.083066  1.083066   \n",
              "3  1.085062  ...  1.094570  1.094570  1.094570  1.084965  1.084965  1.084965   \n",
              "4  1.084615  ...  1.093699  1.093699  1.093699  1.084529  1.084529  1.084529   \n",
              "\n",
              "        368       369       370       371  \n",
              "0  1.085090  1.085090  1.085090  1.085090  \n",
              "1  1.082738  1.082738  1.082738  1.082738  \n",
              "2  1.083066  1.083066  1.083066  1.083066  \n",
              "3  1.084965  1.084965  1.084965  1.084965  \n",
              "4  1.084529  1.084529  1.084529  1.084529  \n",
              "\n",
              "[5 rows x 372 columns]"
            ],
            "text/html": [
              "\n",
              "  <div id=\"df-fa696ecb-d6f7-429a-a481-9cdb5930f8a1\">\n",
              "    <div class=\"colab-df-container\">\n",
              "      <div>\n",
              "<style scoped>\n",
              "    .dataframe tbody tr th:only-of-type {\n",
              "        vertical-align: middle;\n",
              "    }\n",
              "\n",
              "    .dataframe tbody tr th {\n",
              "        vertical-align: top;\n",
              "    }\n",
              "\n",
              "    .dataframe thead th {\n",
              "        text-align: right;\n",
              "    }\n",
              "</style>\n",
              "<table border=\"1\" class=\"dataframe\">\n",
              "  <thead>\n",
              "    <tr style=\"text-align: right;\">\n",
              "      <th></th>\n",
              "      <th>0</th>\n",
              "      <th>1</th>\n",
              "      <th>2</th>\n",
              "      <th>3</th>\n",
              "      <th>4</th>\n",
              "      <th>5</th>\n",
              "      <th>6</th>\n",
              "      <th>7</th>\n",
              "      <th>8</th>\n",
              "      <th>9</th>\n",
              "      <th>...</th>\n",
              "      <th>362</th>\n",
              "      <th>363</th>\n",
              "      <th>364</th>\n",
              "      <th>365</th>\n",
              "      <th>366</th>\n",
              "      <th>367</th>\n",
              "      <th>368</th>\n",
              "      <th>369</th>\n",
              "      <th>370</th>\n",
              "      <th>371</th>\n",
              "    </tr>\n",
              "  </thead>\n",
              "  <tbody>\n",
              "    <tr>\n",
              "      <th>0</th>\n",
              "      <td>1.068</td>\n",
              "      <td>1.068</td>\n",
              "      <td>1.068</td>\n",
              "      <td>1.068</td>\n",
              "      <td>1.068</td>\n",
              "      <td>1.085174</td>\n",
              "      <td>1.085174</td>\n",
              "      <td>1.085174</td>\n",
              "      <td>1.085174</td>\n",
              "      <td>1.085174</td>\n",
              "      <td>...</td>\n",
              "      <td>1.095028</td>\n",
              "      <td>1.095028</td>\n",
              "      <td>1.095028</td>\n",
              "      <td>1.085090</td>\n",
              "      <td>1.085090</td>\n",
              "      <td>1.085090</td>\n",
              "      <td>1.085090</td>\n",
              "      <td>1.085090</td>\n",
              "      <td>1.085090</td>\n",
              "      <td>1.085090</td>\n",
              "    </tr>\n",
              "    <tr>\n",
              "      <th>1</th>\n",
              "      <td>1.068</td>\n",
              "      <td>1.068</td>\n",
              "      <td>1.068</td>\n",
              "      <td>1.068</td>\n",
              "      <td>1.068</td>\n",
              "      <td>1.082818</td>\n",
              "      <td>1.082818</td>\n",
              "      <td>1.082818</td>\n",
              "      <td>1.082818</td>\n",
              "      <td>1.082818</td>\n",
              "      <td>...</td>\n",
              "      <td>1.091864</td>\n",
              "      <td>1.091864</td>\n",
              "      <td>1.091864</td>\n",
              "      <td>1.082738</td>\n",
              "      <td>1.082738</td>\n",
              "      <td>1.082738</td>\n",
              "      <td>1.082738</td>\n",
              "      <td>1.082738</td>\n",
              "      <td>1.082738</td>\n",
              "      <td>1.082738</td>\n",
              "    </tr>\n",
              "    <tr>\n",
              "      <th>2</th>\n",
              "      <td>1.068</td>\n",
              "      <td>1.068</td>\n",
              "      <td>1.068</td>\n",
              "      <td>1.068</td>\n",
              "      <td>1.068</td>\n",
              "      <td>1.083136</td>\n",
              "      <td>1.083136</td>\n",
              "      <td>1.083136</td>\n",
              "      <td>1.083136</td>\n",
              "      <td>1.083136</td>\n",
              "      <td>...</td>\n",
              "      <td>1.091992</td>\n",
              "      <td>1.091992</td>\n",
              "      <td>1.091992</td>\n",
              "      <td>1.083066</td>\n",
              "      <td>1.083066</td>\n",
              "      <td>1.083066</td>\n",
              "      <td>1.083066</td>\n",
              "      <td>1.083066</td>\n",
              "      <td>1.083066</td>\n",
              "      <td>1.083066</td>\n",
              "    </tr>\n",
              "    <tr>\n",
              "      <th>3</th>\n",
              "      <td>1.068</td>\n",
              "      <td>1.068</td>\n",
              "      <td>1.068</td>\n",
              "      <td>1.068</td>\n",
              "      <td>1.068</td>\n",
              "      <td>1.085062</td>\n",
              "      <td>1.085062</td>\n",
              "      <td>1.085062</td>\n",
              "      <td>1.085062</td>\n",
              "      <td>1.085062</td>\n",
              "      <td>...</td>\n",
              "      <td>1.094570</td>\n",
              "      <td>1.094570</td>\n",
              "      <td>1.094570</td>\n",
              "      <td>1.084965</td>\n",
              "      <td>1.084965</td>\n",
              "      <td>1.084965</td>\n",
              "      <td>1.084965</td>\n",
              "      <td>1.084965</td>\n",
              "      <td>1.084965</td>\n",
              "      <td>1.084965</td>\n",
              "    </tr>\n",
              "    <tr>\n",
              "      <th>4</th>\n",
              "      <td>1.068</td>\n",
              "      <td>1.068</td>\n",
              "      <td>1.068</td>\n",
              "      <td>1.068</td>\n",
              "      <td>1.068</td>\n",
              "      <td>1.084615</td>\n",
              "      <td>1.084615</td>\n",
              "      <td>1.084615</td>\n",
              "      <td>1.084615</td>\n",
              "      <td>1.084615</td>\n",
              "      <td>...</td>\n",
              "      <td>1.093699</td>\n",
              "      <td>1.093699</td>\n",
              "      <td>1.093699</td>\n",
              "      <td>1.084529</td>\n",
              "      <td>1.084529</td>\n",
              "      <td>1.084529</td>\n",
              "      <td>1.084529</td>\n",
              "      <td>1.084529</td>\n",
              "      <td>1.084529</td>\n",
              "      <td>1.084529</td>\n",
              "    </tr>\n",
              "  </tbody>\n",
              "</table>\n",
              "<p>5 rows × 372 columns</p>\n",
              "</div>\n",
              "      <button class=\"colab-df-convert\" onclick=\"convertToInteractive('df-fa696ecb-d6f7-429a-a481-9cdb5930f8a1')\"\n",
              "              title=\"Convert this dataframe to an interactive table.\"\n",
              "              style=\"display:none;\">\n",
              "        \n",
              "  <svg xmlns=\"http://www.w3.org/2000/svg\" height=\"24px\"viewBox=\"0 0 24 24\"\n",
              "       width=\"24px\">\n",
              "    <path d=\"M0 0h24v24H0V0z\" fill=\"none\"/>\n",
              "    <path d=\"M18.56 5.44l.94 2.06.94-2.06 2.06-.94-2.06-.94-.94-2.06-.94 2.06-2.06.94zm-11 1L8.5 8.5l.94-2.06 2.06-.94-2.06-.94L8.5 2.5l-.94 2.06-2.06.94zm10 10l.94 2.06.94-2.06 2.06-.94-2.06-.94-.94-2.06-.94 2.06-2.06.94z\"/><path d=\"M17.41 7.96l-1.37-1.37c-.4-.4-.92-.59-1.43-.59-.52 0-1.04.2-1.43.59L10.3 9.45l-7.72 7.72c-.78.78-.78 2.05 0 2.83L4 21.41c.39.39.9.59 1.41.59.51 0 1.02-.2 1.41-.59l7.78-7.78 2.81-2.81c.8-.78.8-2.07 0-2.86zM5.41 20L4 18.59l7.72-7.72 1.47 1.35L5.41 20z\"/>\n",
              "  </svg>\n",
              "      </button>\n",
              "      \n",
              "  <style>\n",
              "    .colab-df-container {\n",
              "      display:flex;\n",
              "      flex-wrap:wrap;\n",
              "      gap: 12px;\n",
              "    }\n",
              "\n",
              "    .colab-df-convert {\n",
              "      background-color: #E8F0FE;\n",
              "      border: none;\n",
              "      border-radius: 50%;\n",
              "      cursor: pointer;\n",
              "      display: none;\n",
              "      fill: #1967D2;\n",
              "      height: 32px;\n",
              "      padding: 0 0 0 0;\n",
              "      width: 32px;\n",
              "    }\n",
              "\n",
              "    .colab-df-convert:hover {\n",
              "      background-color: #E2EBFA;\n",
              "      box-shadow: 0px 1px 2px rgba(60, 64, 67, 0.3), 0px 1px 3px 1px rgba(60, 64, 67, 0.15);\n",
              "      fill: #174EA6;\n",
              "    }\n",
              "\n",
              "    [theme=dark] .colab-df-convert {\n",
              "      background-color: #3B4455;\n",
              "      fill: #D2E3FC;\n",
              "    }\n",
              "\n",
              "    [theme=dark] .colab-df-convert:hover {\n",
              "      background-color: #434B5C;\n",
              "      box-shadow: 0px 1px 3px 1px rgba(0, 0, 0, 0.15);\n",
              "      filter: drop-shadow(0px 1px 2px rgba(0, 0, 0, 0.3));\n",
              "      fill: #FFFFFF;\n",
              "    }\n",
              "  </style>\n",
              "\n",
              "      <script>\n",
              "        const buttonEl =\n",
              "          document.querySelector('#df-fa696ecb-d6f7-429a-a481-9cdb5930f8a1 button.colab-df-convert');\n",
              "        buttonEl.style.display =\n",
              "          google.colab.kernel.accessAllowed ? 'block' : 'none';\n",
              "\n",
              "        async function convertToInteractive(key) {\n",
              "          const element = document.querySelector('#df-fa696ecb-d6f7-429a-a481-9cdb5930f8a1');\n",
              "          const dataTable =\n",
              "            await google.colab.kernel.invokeFunction('convertToInteractive',\n",
              "                                                     [key], {});\n",
              "          if (!dataTable) return;\n",
              "\n",
              "          const docLinkHtml = 'Like what you see? Visit the ' +\n",
              "            '<a target=\"_blank\" href=https://colab.research.google.com/notebooks/data_table.ipynb>data table notebook</a>'\n",
              "            + ' to learn more about interactive tables.';\n",
              "          element.innerHTML = '';\n",
              "          dataTable['output_type'] = 'display_data';\n",
              "          await google.colab.output.renderOutput(dataTable, element);\n",
              "          const docLink = document.createElement('div');\n",
              "          docLink.innerHTML = docLinkHtml;\n",
              "          element.appendChild(docLink);\n",
              "        }\n",
              "      </script>\n",
              "    </div>\n",
              "  </div>\n",
              "  "
            ]
          },
          "metadata": {},
          "execution_count": 4
        }
      ],
      "source": [
        "output_dir = os.path.join(\"/content/drive/MyDrive/datasource\",\n",
        "                          \"time_series_test\")\n",
        "bus_vm_pu_data = os.path.join(output_dir, \"res_bus/vm_pu.xlsx\")\n",
        "bus_vm_pu_df = pd.read_excel(bus_vm_pu_data, index_col=0)\n",
        "bus_vm_pu_df.head()"
      ]
    },
    {
      "cell_type": "markdown",
      "source": [
        "### Data Transformation\n",
        "\n",
        "*   Add column names corresponding to bus index.\n",
        "*   Average over every 4 rows to obtain hourly per-unit voltage magnitude measurements.\n",
        "*   Final dataset contains 8784 samples corresponding to the to number of hours in a year (assuming one year is 366 days).\n",
        "*   Next, transform the data into a format that the time series model can easily process.\n",
        "\n",
        "\n",
        "\n",
        "\n",
        "\n"
      ],
      "metadata": {
        "id": "IqAxwz2dlPMz"
      }
    },
    {
      "cell_type": "code",
      "execution_count": 5,
      "metadata": {
        "colab": {
          "base_uri": "https://localhost:8080/",
          "height": 488
        },
        "id": "MuBM205wO_fi",
        "outputId": "ad8cd07b-7b8b-4815-cb3a-39c7448bbdae"
      },
      "outputs": [
        {
          "output_type": "execute_result",
          "data": {
            "text/plain": [
              "       bus0   bus1   bus2   bus3   bus4      bus5      bus6      bus7  \\\n",
              "0     1.068  1.068  1.068  1.068  1.068  1.084161  1.084161  1.084161   \n",
              "1     1.068  1.068  1.068  1.068  1.068  1.084455  1.084455  1.084455   \n",
              "2     1.068  1.068  1.068  1.068  1.068  1.084965  1.084965  1.084965   \n",
              "3     1.068  1.068  1.068  1.068  1.068  1.084607  1.084607  1.084607   \n",
              "4     1.068  1.068  1.068  1.068  1.068  1.084637  1.084637  1.084637   \n",
              "...     ...    ...    ...    ...    ...       ...       ...       ...   \n",
              "8779  1.068  1.068  1.068  1.068  1.068  1.084783  1.084783  1.084783   \n",
              "8780  1.068  1.068  1.068  1.068  1.068  1.084423  1.084423  1.084423   \n",
              "8781  1.068  1.068  1.068  1.068  1.068  1.084923  1.084923  1.084923   \n",
              "8782  1.068  1.068  1.068  1.068  1.068  1.085568  1.085568  1.085568   \n",
              "8783  1.068  1.068  1.068  1.068  1.068  1.085363  1.085363  1.085363   \n",
              "\n",
              "          bus8      bus9  ...    bus362    bus363    bus364    bus365  \\\n",
              "0     1.084161  1.084161  ...  1.093431  1.093431  1.093431  1.084078   \n",
              "1     1.084455  1.084455  ...  1.093860  1.093860  1.093860  1.084366   \n",
              "2     1.084965  1.084965  ...  1.095602  1.095602  1.095602  1.084851   \n",
              "3     1.084607  1.084607  ...  1.095942  1.095942  1.095942  1.084488   \n",
              "4     1.084637  1.084637  ...  1.096357  1.096357  1.096357  1.084509   \n",
              "...        ...       ...  ...       ...       ...       ...       ...   \n",
              "8779  1.084783  1.084783  ...  1.094166  1.094166  1.094166  1.084729   \n",
              "8780  1.084423  1.084423  ...  1.094278  1.094278  1.094278  1.084357   \n",
              "8781  1.084923  1.084923  ...  1.095507  1.095507  1.095507  1.084834   \n",
              "8782  1.085568  1.085568  ...  1.091886  1.091886  1.091886  1.085528   \n",
              "8783  1.085363  1.085363  ...  1.087057  1.087057  1.087057  1.085377   \n",
              "\n",
              "        bus366    bus367    bus368    bus369    bus370    bus371  \n",
              "0     1.084078  1.084078  1.084078  1.084078  1.084078  1.084078  \n",
              "1     1.084366  1.084366  1.084366  1.084366  1.084366  1.084366  \n",
              "2     1.084851  1.084851  1.084851  1.084851  1.084851  1.084851  \n",
              "3     1.084488  1.084488  1.084488  1.084488  1.084488  1.084488  \n",
              "4     1.084509  1.084509  1.084509  1.084509  1.084509  1.084509  \n",
              "...        ...       ...       ...       ...       ...       ...  \n",
              "8779  1.084729  1.084729  1.084729  1.084729  1.084729  1.084729  \n",
              "8780  1.084357  1.084357  1.084357  1.084357  1.084357  1.084357  \n",
              "8781  1.084834  1.084834  1.084834  1.084834  1.084834  1.084834  \n",
              "8782  1.085528  1.085528  1.085528  1.085528  1.085528  1.085528  \n",
              "8783  1.085377  1.085377  1.085377  1.085377  1.085377  1.085377  \n",
              "\n",
              "[8784 rows x 372 columns]"
            ],
            "text/html": [
              "\n",
              "  <div id=\"df-8f8bf883-75d9-4ee7-b4df-d983bbe4e118\">\n",
              "    <div class=\"colab-df-container\">\n",
              "      <div>\n",
              "<style scoped>\n",
              "    .dataframe tbody tr th:only-of-type {\n",
              "        vertical-align: middle;\n",
              "    }\n",
              "\n",
              "    .dataframe tbody tr th {\n",
              "        vertical-align: top;\n",
              "    }\n",
              "\n",
              "    .dataframe thead th {\n",
              "        text-align: right;\n",
              "    }\n",
              "</style>\n",
              "<table border=\"1\" class=\"dataframe\">\n",
              "  <thead>\n",
              "    <tr style=\"text-align: right;\">\n",
              "      <th></th>\n",
              "      <th>bus0</th>\n",
              "      <th>bus1</th>\n",
              "      <th>bus2</th>\n",
              "      <th>bus3</th>\n",
              "      <th>bus4</th>\n",
              "      <th>bus5</th>\n",
              "      <th>bus6</th>\n",
              "      <th>bus7</th>\n",
              "      <th>bus8</th>\n",
              "      <th>bus9</th>\n",
              "      <th>...</th>\n",
              "      <th>bus362</th>\n",
              "      <th>bus363</th>\n",
              "      <th>bus364</th>\n",
              "      <th>bus365</th>\n",
              "      <th>bus366</th>\n",
              "      <th>bus367</th>\n",
              "      <th>bus368</th>\n",
              "      <th>bus369</th>\n",
              "      <th>bus370</th>\n",
              "      <th>bus371</th>\n",
              "    </tr>\n",
              "  </thead>\n",
              "  <tbody>\n",
              "    <tr>\n",
              "      <th>0</th>\n",
              "      <td>1.068</td>\n",
              "      <td>1.068</td>\n",
              "      <td>1.068</td>\n",
              "      <td>1.068</td>\n",
              "      <td>1.068</td>\n",
              "      <td>1.084161</td>\n",
              "      <td>1.084161</td>\n",
              "      <td>1.084161</td>\n",
              "      <td>1.084161</td>\n",
              "      <td>1.084161</td>\n",
              "      <td>...</td>\n",
              "      <td>1.093431</td>\n",
              "      <td>1.093431</td>\n",
              "      <td>1.093431</td>\n",
              "      <td>1.084078</td>\n",
              "      <td>1.084078</td>\n",
              "      <td>1.084078</td>\n",
              "      <td>1.084078</td>\n",
              "      <td>1.084078</td>\n",
              "      <td>1.084078</td>\n",
              "      <td>1.084078</td>\n",
              "    </tr>\n",
              "    <tr>\n",
              "      <th>1</th>\n",
              "      <td>1.068</td>\n",
              "      <td>1.068</td>\n",
              "      <td>1.068</td>\n",
              "      <td>1.068</td>\n",
              "      <td>1.068</td>\n",
              "      <td>1.084455</td>\n",
              "      <td>1.084455</td>\n",
              "      <td>1.084455</td>\n",
              "      <td>1.084455</td>\n",
              "      <td>1.084455</td>\n",
              "      <td>...</td>\n",
              "      <td>1.093860</td>\n",
              "      <td>1.093860</td>\n",
              "      <td>1.093860</td>\n",
              "      <td>1.084366</td>\n",
              "      <td>1.084366</td>\n",
              "      <td>1.084366</td>\n",
              "      <td>1.084366</td>\n",
              "      <td>1.084366</td>\n",
              "      <td>1.084366</td>\n",
              "      <td>1.084366</td>\n",
              "    </tr>\n",
              "    <tr>\n",
              "      <th>2</th>\n",
              "      <td>1.068</td>\n",
              "      <td>1.068</td>\n",
              "      <td>1.068</td>\n",
              "      <td>1.068</td>\n",
              "      <td>1.068</td>\n",
              "      <td>1.084965</td>\n",
              "      <td>1.084965</td>\n",
              "      <td>1.084965</td>\n",
              "      <td>1.084965</td>\n",
              "      <td>1.084965</td>\n",
              "      <td>...</td>\n",
              "      <td>1.095602</td>\n",
              "      <td>1.095602</td>\n",
              "      <td>1.095602</td>\n",
              "      <td>1.084851</td>\n",
              "      <td>1.084851</td>\n",
              "      <td>1.084851</td>\n",
              "      <td>1.084851</td>\n",
              "      <td>1.084851</td>\n",
              "      <td>1.084851</td>\n",
              "      <td>1.084851</td>\n",
              "    </tr>\n",
              "    <tr>\n",
              "      <th>3</th>\n",
              "      <td>1.068</td>\n",
              "      <td>1.068</td>\n",
              "      <td>1.068</td>\n",
              "      <td>1.068</td>\n",
              "      <td>1.068</td>\n",
              "      <td>1.084607</td>\n",
              "      <td>1.084607</td>\n",
              "      <td>1.084607</td>\n",
              "      <td>1.084607</td>\n",
              "      <td>1.084607</td>\n",
              "      <td>...</td>\n",
              "      <td>1.095942</td>\n",
              "      <td>1.095942</td>\n",
              "      <td>1.095942</td>\n",
              "      <td>1.084488</td>\n",
              "      <td>1.084488</td>\n",
              "      <td>1.084488</td>\n",
              "      <td>1.084488</td>\n",
              "      <td>1.084488</td>\n",
              "      <td>1.084488</td>\n",
              "      <td>1.084488</td>\n",
              "    </tr>\n",
              "    <tr>\n",
              "      <th>4</th>\n",
              "      <td>1.068</td>\n",
              "      <td>1.068</td>\n",
              "      <td>1.068</td>\n",
              "      <td>1.068</td>\n",
              "      <td>1.068</td>\n",
              "      <td>1.084637</td>\n",
              "      <td>1.084637</td>\n",
              "      <td>1.084637</td>\n",
              "      <td>1.084637</td>\n",
              "      <td>1.084637</td>\n",
              "      <td>...</td>\n",
              "      <td>1.096357</td>\n",
              "      <td>1.096357</td>\n",
              "      <td>1.096357</td>\n",
              "      <td>1.084509</td>\n",
              "      <td>1.084509</td>\n",
              "      <td>1.084509</td>\n",
              "      <td>1.084509</td>\n",
              "      <td>1.084509</td>\n",
              "      <td>1.084509</td>\n",
              "      <td>1.084509</td>\n",
              "    </tr>\n",
              "    <tr>\n",
              "      <th>...</th>\n",
              "      <td>...</td>\n",
              "      <td>...</td>\n",
              "      <td>...</td>\n",
              "      <td>...</td>\n",
              "      <td>...</td>\n",
              "      <td>...</td>\n",
              "      <td>...</td>\n",
              "      <td>...</td>\n",
              "      <td>...</td>\n",
              "      <td>...</td>\n",
              "      <td>...</td>\n",
              "      <td>...</td>\n",
              "      <td>...</td>\n",
              "      <td>...</td>\n",
              "      <td>...</td>\n",
              "      <td>...</td>\n",
              "      <td>...</td>\n",
              "      <td>...</td>\n",
              "      <td>...</td>\n",
              "      <td>...</td>\n",
              "      <td>...</td>\n",
              "    </tr>\n",
              "    <tr>\n",
              "      <th>8779</th>\n",
              "      <td>1.068</td>\n",
              "      <td>1.068</td>\n",
              "      <td>1.068</td>\n",
              "      <td>1.068</td>\n",
              "      <td>1.068</td>\n",
              "      <td>1.084783</td>\n",
              "      <td>1.084783</td>\n",
              "      <td>1.084783</td>\n",
              "      <td>1.084783</td>\n",
              "      <td>1.084783</td>\n",
              "      <td>...</td>\n",
              "      <td>1.094166</td>\n",
              "      <td>1.094166</td>\n",
              "      <td>1.094166</td>\n",
              "      <td>1.084729</td>\n",
              "      <td>1.084729</td>\n",
              "      <td>1.084729</td>\n",
              "      <td>1.084729</td>\n",
              "      <td>1.084729</td>\n",
              "      <td>1.084729</td>\n",
              "      <td>1.084729</td>\n",
              "    </tr>\n",
              "    <tr>\n",
              "      <th>8780</th>\n",
              "      <td>1.068</td>\n",
              "      <td>1.068</td>\n",
              "      <td>1.068</td>\n",
              "      <td>1.068</td>\n",
              "      <td>1.068</td>\n",
              "      <td>1.084423</td>\n",
              "      <td>1.084423</td>\n",
              "      <td>1.084423</td>\n",
              "      <td>1.084423</td>\n",
              "      <td>1.084423</td>\n",
              "      <td>...</td>\n",
              "      <td>1.094278</td>\n",
              "      <td>1.094278</td>\n",
              "      <td>1.094278</td>\n",
              "      <td>1.084357</td>\n",
              "      <td>1.084357</td>\n",
              "      <td>1.084357</td>\n",
              "      <td>1.084357</td>\n",
              "      <td>1.084357</td>\n",
              "      <td>1.084357</td>\n",
              "      <td>1.084357</td>\n",
              "    </tr>\n",
              "    <tr>\n",
              "      <th>8781</th>\n",
              "      <td>1.068</td>\n",
              "      <td>1.068</td>\n",
              "      <td>1.068</td>\n",
              "      <td>1.068</td>\n",
              "      <td>1.068</td>\n",
              "      <td>1.084923</td>\n",
              "      <td>1.084923</td>\n",
              "      <td>1.084923</td>\n",
              "      <td>1.084923</td>\n",
              "      <td>1.084923</td>\n",
              "      <td>...</td>\n",
              "      <td>1.095507</td>\n",
              "      <td>1.095507</td>\n",
              "      <td>1.095507</td>\n",
              "      <td>1.084834</td>\n",
              "      <td>1.084834</td>\n",
              "      <td>1.084834</td>\n",
              "      <td>1.084834</td>\n",
              "      <td>1.084834</td>\n",
              "      <td>1.084834</td>\n",
              "      <td>1.084834</td>\n",
              "    </tr>\n",
              "    <tr>\n",
              "      <th>8782</th>\n",
              "      <td>1.068</td>\n",
              "      <td>1.068</td>\n",
              "      <td>1.068</td>\n",
              "      <td>1.068</td>\n",
              "      <td>1.068</td>\n",
              "      <td>1.085568</td>\n",
              "      <td>1.085568</td>\n",
              "      <td>1.085568</td>\n",
              "      <td>1.085568</td>\n",
              "      <td>1.085568</td>\n",
              "      <td>...</td>\n",
              "      <td>1.091886</td>\n",
              "      <td>1.091886</td>\n",
              "      <td>1.091886</td>\n",
              "      <td>1.085528</td>\n",
              "      <td>1.085528</td>\n",
              "      <td>1.085528</td>\n",
              "      <td>1.085528</td>\n",
              "      <td>1.085528</td>\n",
              "      <td>1.085528</td>\n",
              "      <td>1.085528</td>\n",
              "    </tr>\n",
              "    <tr>\n",
              "      <th>8783</th>\n",
              "      <td>1.068</td>\n",
              "      <td>1.068</td>\n",
              "      <td>1.068</td>\n",
              "      <td>1.068</td>\n",
              "      <td>1.068</td>\n",
              "      <td>1.085363</td>\n",
              "      <td>1.085363</td>\n",
              "      <td>1.085363</td>\n",
              "      <td>1.085363</td>\n",
              "      <td>1.085363</td>\n",
              "      <td>...</td>\n",
              "      <td>1.087057</td>\n",
              "      <td>1.087057</td>\n",
              "      <td>1.087057</td>\n",
              "      <td>1.085377</td>\n",
              "      <td>1.085377</td>\n",
              "      <td>1.085377</td>\n",
              "      <td>1.085377</td>\n",
              "      <td>1.085377</td>\n",
              "      <td>1.085377</td>\n",
              "      <td>1.085377</td>\n",
              "    </tr>\n",
              "  </tbody>\n",
              "</table>\n",
              "<p>8784 rows × 372 columns</p>\n",
              "</div>\n",
              "      <button class=\"colab-df-convert\" onclick=\"convertToInteractive('df-8f8bf883-75d9-4ee7-b4df-d983bbe4e118')\"\n",
              "              title=\"Convert this dataframe to an interactive table.\"\n",
              "              style=\"display:none;\">\n",
              "        \n",
              "  <svg xmlns=\"http://www.w3.org/2000/svg\" height=\"24px\"viewBox=\"0 0 24 24\"\n",
              "       width=\"24px\">\n",
              "    <path d=\"M0 0h24v24H0V0z\" fill=\"none\"/>\n",
              "    <path d=\"M18.56 5.44l.94 2.06.94-2.06 2.06-.94-2.06-.94-.94-2.06-.94 2.06-2.06.94zm-11 1L8.5 8.5l.94-2.06 2.06-.94-2.06-.94L8.5 2.5l-.94 2.06-2.06.94zm10 10l.94 2.06.94-2.06 2.06-.94-2.06-.94-.94-2.06-.94 2.06-2.06.94z\"/><path d=\"M17.41 7.96l-1.37-1.37c-.4-.4-.92-.59-1.43-.59-.52 0-1.04.2-1.43.59L10.3 9.45l-7.72 7.72c-.78.78-.78 2.05 0 2.83L4 21.41c.39.39.9.59 1.41.59.51 0 1.02-.2 1.41-.59l7.78-7.78 2.81-2.81c.8-.78.8-2.07 0-2.86zM5.41 20L4 18.59l7.72-7.72 1.47 1.35L5.41 20z\"/>\n",
              "  </svg>\n",
              "      </button>\n",
              "      \n",
              "  <style>\n",
              "    .colab-df-container {\n",
              "      display:flex;\n",
              "      flex-wrap:wrap;\n",
              "      gap: 12px;\n",
              "    }\n",
              "\n",
              "    .colab-df-convert {\n",
              "      background-color: #E8F0FE;\n",
              "      border: none;\n",
              "      border-radius: 50%;\n",
              "      cursor: pointer;\n",
              "      display: none;\n",
              "      fill: #1967D2;\n",
              "      height: 32px;\n",
              "      padding: 0 0 0 0;\n",
              "      width: 32px;\n",
              "    }\n",
              "\n",
              "    .colab-df-convert:hover {\n",
              "      background-color: #E2EBFA;\n",
              "      box-shadow: 0px 1px 2px rgba(60, 64, 67, 0.3), 0px 1px 3px 1px rgba(60, 64, 67, 0.15);\n",
              "      fill: #174EA6;\n",
              "    }\n",
              "\n",
              "    [theme=dark] .colab-df-convert {\n",
              "      background-color: #3B4455;\n",
              "      fill: #D2E3FC;\n",
              "    }\n",
              "\n",
              "    [theme=dark] .colab-df-convert:hover {\n",
              "      background-color: #434B5C;\n",
              "      box-shadow: 0px 1px 3px 1px rgba(0, 0, 0, 0.15);\n",
              "      filter: drop-shadow(0px 1px 2px rgba(0, 0, 0, 0.3));\n",
              "      fill: #FFFFFF;\n",
              "    }\n",
              "  </style>\n",
              "\n",
              "      <script>\n",
              "        const buttonEl =\n",
              "          document.querySelector('#df-8f8bf883-75d9-4ee7-b4df-d983bbe4e118 button.colab-df-convert');\n",
              "        buttonEl.style.display =\n",
              "          google.colab.kernel.accessAllowed ? 'block' : 'none';\n",
              "\n",
              "        async function convertToInteractive(key) {\n",
              "          const element = document.querySelector('#df-8f8bf883-75d9-4ee7-b4df-d983bbe4e118');\n",
              "          const dataTable =\n",
              "            await google.colab.kernel.invokeFunction('convertToInteractive',\n",
              "                                                     [key], {});\n",
              "          if (!dataTable) return;\n",
              "\n",
              "          const docLinkHtml = 'Like what you see? Visit the ' +\n",
              "            '<a target=\"_blank\" href=https://colab.research.google.com/notebooks/data_table.ipynb>data table notebook</a>'\n",
              "            + ' to learn more about interactive tables.';\n",
              "          element.innerHTML = '';\n",
              "          dataTable['output_type'] = 'display_data';\n",
              "          await google.colab.output.renderOutput(dataTable, element);\n",
              "          const docLink = document.createElement('div');\n",
              "          docLink.innerHTML = docLinkHtml;\n",
              "          element.appendChild(docLink);\n",
              "        }\n",
              "      </script>\n",
              "    </div>\n",
              "  </div>\n",
              "  "
            ]
          },
          "metadata": {},
          "execution_count": 5
        }
      ],
      "source": [
        "columns = ['bus'+str(x) for x in range(bus_vm_pu_df.shape[1])]\n",
        "bus_vm_pu_df.columns = columns\n",
        "\n",
        "# Function to average every 4 rows to get hourly results\n",
        "def average_rows(df):\n",
        "  avg_df = pd.DataFrame(columns=df.columns)\n",
        "  for i in range(0, len(df), 4):\n",
        "    avg_row = df.loc[i:i+4,:].mean()\n",
        "    avg_df.loc[len(avg_df.index)] = avg_row\n",
        "  return avg_df\n",
        "\n",
        "hourly_bus_vm_pu_df = average_rows(bus_vm_pu_df)\n",
        "hourly_bus_vm_pu_df"
      ]
    },
    {
      "cell_type": "markdown",
      "source": [
        "#### Visualize per-unit voltage at bus 8 for the last 184 simulated hours."
      ],
      "metadata": {
        "id": "-XTYI3Mrqfe_"
      }
    },
    {
      "cell_type": "code",
      "execution_count": 6,
      "metadata": {
        "colab": {
          "base_uri": "https://localhost:8080/",
          "height": 54
        },
        "id": "a9885ek-LtKB",
        "outputId": "cdd8902d-a0d0-4e86-b707-779165410d14"
      },
      "outputs": [
        {
          "output_type": "display_data",
          "data": {
            "text/plain": [
              "<Figure size 640x480 with 1 Axes>"
            ],
            "image/png": "[encoded data removed]"
          },
          "metadata": {}
        }
      ],
      "source": [
        "hourly_bus_vm_pu_df.loc[8600: ,'bus8'].plot(label=\"bus8\")\n",
        "plt.legend()\n",
        "plt.show()"
      ]
    },
    {
      "cell_type": "markdown",
      "source": [
        "#### Transform the data into a format better suited for time series transformers\n",
        "*   Split it into train and test sets.\n",
        "*   Add categorical features to uniquely identify each bus (time series).\n",
        "*   Add timestamps and frequency of records to the dataset.\n",
        "*   The final result is a dataset dictionary containing a train and test dataset."
      ],
      "metadata": {
        "id": "4ylQqi6GrkNt"
      }
    },
    {
      "cell_type": "code",
      "execution_count": 7,
      "metadata": {
        "id": "CGRinQ9lrgoj"
      },
      "outputs": [],
      "source": [
        "def create_dataset(in_data, num_series, num_steps, mu=0, sigma=0.01):\n",
        "    # create target: noise + pattern\n",
        "    # noise\n",
        "    # noise = np.random.normal(mu, sigma, size=(num_steps, num_series))\n",
        "\n",
        "    # target = noise + in_data.to_numpy()\n",
        "    target = in_data.to_numpy()\n",
        "\n",
        "    # create categorical static feats: use the sinusoid type as a\n",
        "    # categorical feature\n",
        "    item_id = np.array(in_data.columns)\n",
        "    feat_static_cat = np.array([x for x in range(num_series)])\n",
        "\n",
        "    return target, item_id, feat_static_cat"
      ]
    },
    {
      "cell_type": "code",
      "execution_count": 8,
      "metadata": {
        "id": "gnoS1kVGrzJ6"
      },
      "outputs": [],
      "source": [
        "# define the parameters of the dataset\n",
        "num_series = hourly_bus_vm_pu_df.shape[1]\n",
        "num_steps = hourly_bus_vm_pu_df.shape[0]\n",
        "\n",
        "custom_ds_metadata = {\n",
        "    \"num_series\": num_series,\n",
        "    \"num_steps\": num_steps,\n",
        "    \"prediction_length\": 24, # last 24 hours.\n",
        "    \"freq\": \"1H\",\n",
        "    \"start\": [pd.Period(\"01-06-2019\", freq=\"1H\").to_timestamp() for _ in range(num_series)],\n",
        "}"
      ]
    },
    {
      "cell_type": "code",
      "execution_count": 9,
      "metadata": {
        "colab": {
          "base_uri": "https://localhost:8080/"
        },
        "id": "gJdroNMPr1V6",
        "outputId": "03720dd4-d043-4544-bd1d-6b4357a42685"
      },
      "outputs": [
        {
          "output_type": "stream",
          "name": "stdout",
          "text": [
            "(372, 8784)\n"
          ]
        }
      ],
      "source": [
        "data_out = create_dataset(\n",
        "    hourly_bus_vm_pu_df,\n",
        "    custom_ds_metadata[\"num_series\"],\n",
        "    custom_ds_metadata[\"num_steps\"],\n",
        ")\n",
        "target, item_id, feat_static_cat = data_out\n",
        "target = target.transpose()\n",
        "print(target.shape)"
      ]
    },
    {
      "cell_type": "code",
      "execution_count": 10,
      "metadata": {
        "id": "RLccHMhusRR6"
      },
      "outputs": [],
      "source": [
        "train_ds = ListDataset(\n",
        "    [\n",
        "        {\n",
        "            FieldName.TARGET: target,\n",
        "            FieldName.START: start,\n",
        "            FieldName.ITEM_ID: id,\n",
        "            FieldName.FEAT_STATIC_CAT: [fsc],\n",
        "        }\n",
        "        for (target, start, id, fsc) in zip(\n",
        "            target[:, :-custom_ds_metadata[\"prediction_length\"]],\n",
        "            custom_ds_metadata[\"start\"],\n",
        "            item_id,\n",
        "            feat_static_cat,\n",
        "        )\n",
        "    ],\n",
        "    freq=custom_ds_metadata[\"freq\"],\n",
        "    use_timestamp= True\n",
        ")"
      ]
    },
    {
      "cell_type": "code",
      "execution_count": 11,
      "metadata": {
        "id": "SsXujOXysTaE"
      },
      "outputs": [],
      "source": [
        "test_ds = ListDataset(\n",
        "    [\n",
        "        {\n",
        "            FieldName.TARGET: target,\n",
        "            FieldName.START: start,\n",
        "            FieldName.ITEM_ID: id,\n",
        "            FieldName.FEAT_STATIC_CAT: [fsc],\n",
        "        }\n",
        "        for (target, start, id, fsc) in zip(\n",
        "            target,\n",
        "            custom_ds_metadata[\"start\"],\n",
        "            item_id,\n",
        "            feat_static_cat,\n",
        "        )\n",
        "    ],\n",
        "    freq=custom_ds_metadata[\"freq\"],\n",
        "    use_timestamp= True\n",
        ")"
      ]
    },
    {
      "cell_type": "code",
      "execution_count": 12,
      "metadata": {
        "colab": {
          "base_uri": "https://localhost:8080/"
        },
        "id": "c6pvc634hrn_",
        "outputId": "ceecea8e-7c37-4f63-eab7-1226b6ad83f5"
      },
      "outputs": [
        {
          "output_type": "stream",
          "name": "stdout",
          "text": [
            "{'target': array([1.068, 1.068, 1.068, ..., 1.068, 1.068, 1.068], dtype=float32), 'start': Timestamp('2019-01-06 00:00:00'), 'item_id': 'bus0', 'feat_static_cat': array([0], dtype=int32)}\n",
            "{'target': array([1.068, 1.068, 1.068, ..., 1.068, 1.068, 1.068], dtype=float32), 'start': Timestamp('2019-01-06 00:00:00'), 'item_id': 'bus0', 'feat_static_cat': array([0], dtype=int32)}\n"
          ]
        }
      ],
      "source": [
        "print(train_ds[0])\n",
        "print(test_ds[0])"
      ]
    },
    {
      "cell_type": "code",
      "execution_count": 13,
      "metadata": {
        "id": "4Tdb7yhhQsLF"
      },
      "outputs": [],
      "source": [
        "from datasets import Dataset, Features, Value, Sequence, DatasetDict\n",
        "\n",
        "features  = Features(\n",
        "    {\n",
        "        \"start\": Value(\"timestamp[s]\"),\n",
        "        \"target\": Sequence(Value(\"float32\")),\n",
        "        \"feat_static_cat\": Sequence(Value(\"uint64\")),\n",
        "        # \"feat_static_real\":  Sequence(Value(\"float32\")),\n",
        "        # \"feat_dynamic_real\": Sequence(Sequence(Value(\"uint64\"))),\n",
        "        # \"feat_dynamic_cat\": Sequence(Sequence(Value(\"uint64\"))),\n",
        "        \"item_id\": Value(\"string\"),\n",
        "    }\n",
        ")"
      ]
    },
    {
      "cell_type": "code",
      "execution_count": 14,
      "metadata": {
        "colab": {
          "base_uri": "https://localhost:8080/"
        },
        "id": "icl7tvuVRPJj",
        "outputId": "a9274c19-a76a-4aa0-96aa-071ff62b2491"
      },
      "outputs": [
        {
          "output_type": "execute_result",
          "data": {
            "text/plain": [
              "DatasetDict({\n",
              "    train: Dataset({\n",
              "        features: ['target', 'start', 'item_id', 'feat_static_cat'],\n",
              "        num_rows: 372\n",
              "    })\n",
              "    test: Dataset({\n",
              "        features: ['target', 'start', 'item_id', 'feat_static_cat'],\n",
              "        num_rows: 372\n",
              "    })\n",
              "})"
            ]
          },
          "metadata": {},
          "execution_count": 14
        }
      ],
      "source": [
        "train = Dataset.from_list(train_ds, features=features)\n",
        "test = Dataset.from_list(test_ds, features=features)\n",
        "dataset = DatasetDict({\"train\": train, \"test\": test})\n",
        "dataset"
      ]
    },
    {
      "cell_type": "markdown",
      "metadata": {
        "id": "5oyLYpsBN3Y9"
      },
      "source": [
        "## Train Transformer"
      ]
    },
    {
      "cell_type": "markdown",
      "source": [
        "### Preview Datasets"
      ],
      "metadata": {
        "id": "6ZcCANHj0L99"
      }
    },
    {
      "cell_type": "code",
      "execution_count": 15,
      "metadata": {
        "colab": {
          "base_uri": "https://localhost:8080/"
        },
        "id": "qFMe8evCOLBq",
        "outputId": "44a9d40c-15d9-45db-e01e-af08e8212f7d"
      },
      "outputs": [
        {
          "output_type": "execute_result",
          "data": {
            "text/plain": [
              "dict_keys(['target', 'start', 'item_id', 'feat_static_cat'])"
            ]
          },
          "metadata": {},
          "execution_count": 15
        }
      ],
      "source": [
        "train_example = dataset['train'][5]\n",
        "train_example.keys()"
      ]
    },
    {
      "cell_type": "code",
      "execution_count": 16,
      "metadata": {
        "colab": {
          "base_uri": "https://localhost:8080/"
        },
        "id": "xVqWgbdBOmmn",
        "outputId": "3718b229-78b6-4347-9325-62e4c75815b5"
      },
      "outputs": [
        {
          "output_type": "stream",
          "name": "stdout",
          "text": [
            "2019-01-06 00:00:00\n"
          ]
        }
      ],
      "source": [
        "print(train_example['start'])"
      ]
    },
    {
      "cell_type": "code",
      "execution_count": 17,
      "metadata": {
        "colab": {
          "base_uri": "https://localhost:8080/"
        },
        "id": "pA2tvilVOpnw",
        "outputId": "cd8d5725-6a79-42f2-bb7c-ac3ed2466ad6"
      },
      "outputs": [
        {
          "output_type": "execute_result",
          "data": {
            "text/plain": [
              "dict_keys(['target', 'start', 'item_id', 'feat_static_cat'])"
            ]
          },
          "metadata": {},
          "execution_count": 17
        }
      ],
      "source": [
        "test_example = dataset['test'][5]\n",
        "test_example.keys()"
      ]
    },
    {
      "cell_type": "code",
      "execution_count": 18,
      "metadata": {
        "colab": {
          "base_uri": "https://localhost:8080/"
        },
        "id": "kfqYPg1zO2Wc",
        "outputId": "c4323439-28a3-4a3b-cb7b-29e137f3d7d8"
      },
      "outputs": [
        {
          "output_type": "stream",
          "name": "stdout",
          "text": [
            "2019-01-06 00:00:00\n"
          ]
        }
      ],
      "source": [
        "print(test_example['start'])"
      ]
    },
    {
      "cell_type": "code",
      "execution_count": 19,
      "metadata": {
        "id": "82EmHc5yO6o2"
      },
      "outputs": [],
      "source": [
        "freq = \"1H\"\n",
        "prediction_length = custom_ds_metadata[\"prediction_length\"]\n",
        "\n",
        "assert len(train_example[\"target\"]) + prediction_length == len(\n",
        "    test_example[\"target\"]\n",
        ")"
      ]
    },
    {
      "cell_type": "code",
      "execution_count": 20,
      "metadata": {
        "colab": {
          "base_uri": "https://localhost:8080/",
          "height": 54
        },
        "id": "tD-nljIBPTOo",
        "outputId": "1ff22ad5-3ef5-4f6a-bc07-174e49964390"
      },
      "outputs": [
        {
          "output_type": "display_data",
          "data": {
            "text/plain": [
              "<Figure size 640x480 with 1 Axes>"
            ],
            "image/png": "[encoded data removed]"
          },
          "metadata": {}
        }
      ],
      "source": [
        "import matplotlib.pyplot as plt\n",
        "\n",
        "number_of_samples = 150\n",
        "\n",
        "figure, axes = plt.subplots()\n",
        "axes.plot(train_example[\"target\"][-number_of_samples:], color=\"blue\")\n",
        "axes.plot(test_example[\"target\"][-number_of_samples-prediction_length:], color=\"red\", alpha=0.5)\n",
        "\n",
        "plt.show()"
      ]
    },
    {
      "cell_type": "code",
      "execution_count": 21,
      "metadata": {
        "id": "e9M1d435PlaY"
      },
      "outputs": [],
      "source": [
        "train_dataset = dataset[\"train\"]\n",
        "test_dataset = dataset[\"test\"]"
      ]
    },
    {
      "cell_type": "code",
      "execution_count": 22,
      "metadata": {
        "colab": {
          "base_uri": "https://localhost:8080/"
        },
        "id": "jMfL_yThbxoa",
        "outputId": "b19551ed-0c96-49fb-e17b-766edee69a6e"
      },
      "outputs": [
        {
          "output_type": "execute_result",
          "data": {
            "text/plain": [
              "372"
            ]
          },
          "metadata": {},
          "execution_count": 22
        }
      ],
      "source": [
        "len(train_dataset)"
      ]
    },
    {
      "cell_type": "markdown",
      "source": [
        "### Pre-Process Datasets"
      ],
      "metadata": {
        "id": "Lr5N5Gwe0irI"
      }
    },
    {
      "cell_type": "code",
      "execution_count": 23,
      "metadata": {
        "id": "fCZJVIv9QPfZ"
      },
      "outputs": [],
      "source": [
        "from functools import lru_cache\n",
        "\n",
        "import pandas as pd\n",
        "import numpy as np\n",
        "\n",
        "@lru_cache(10_000)\n",
        "def convert_to_pandas_period(date, freq):\n",
        "    return pd.Period(date, freq)\n",
        "\n",
        "def transform_start_field(batch, freq):\n",
        "    batch[\"start\"] = [convert_to_pandas_period(date, freq) for date in batch[\"start\"]]\n",
        "    return batch\n"
      ]
    },
    {
      "cell_type": "code",
      "execution_count": 24,
      "metadata": {
        "id": "i8quwMB_QRp4"
      },
      "outputs": [],
      "source": [
        "from functools import partial\n",
        "\n",
        "train_dataset.set_transform(partial(transform_start_field, freq=freq))\n",
        "test_dataset.set_transform(partial(transform_start_field, freq=freq))"
      ]
    },
    {
      "cell_type": "code",
      "execution_count": 25,
      "metadata": {
        "colab": {
          "base_uri": "https://localhost:8080/"
        },
        "id": "CQgWi9oxQW8q",
        "outputId": "8925b0f2-a7e3-45db-be09-82cac6852681"
      },
      "outputs": [
        {
          "output_type": "stream",
          "name": "stdout",
          "text": [
            "Freq 1H\n",
            "[1, 2, 3, 4, 5, 6, 7, 23, 24, 25, 47, 48, 49, 71, 72, 73, 95, 96, 97, 119, 120, 121, 143, 144, 145, 167, 168, 169, 335, 336, 337, 503, 504, 505, 671, 672, 673, 719, 720, 721]\n"
          ]
        }
      ],
      "source": [
        "from gluonts.time_feature import get_lags_for_frequency\n",
        "print(\"Freq\", freq)\n",
        "lags_sequence = get_lags_for_frequency(freq)\n",
        "print(lags_sequence)"
      ]
    },
    {
      "cell_type": "code",
      "execution_count": 26,
      "metadata": {
        "colab": {
          "base_uri": "https://localhost:8080/"
        },
        "id": "VFz-hL9labO5",
        "outputId": "5e2302bb-85c8-4837-99cc-e88364f4b5b3"
      },
      "outputs": [
        {
          "output_type": "stream",
          "name": "stdout",
          "text": [
            "Freq 1H\n",
            "[<function hour_of_day at 0x7f2273984310>, <function day_of_week at 0x7f22739840d0>, <function day_of_month at 0x7f22739841f0>, <function day_of_year at 0x7f226d3e7910>]\n"
          ]
        }
      ],
      "source": [
        "from gluonts.time_feature import time_features_from_frequency_str\n",
        "print(\"Freq\", freq)\n",
        "time_features = time_features_from_frequency_str(freq)\n",
        "print(time_features)"
      ]
    },
    {
      "cell_type": "markdown",
      "source": [
        "### Configure Time Series Tranformer Model Parameters"
      ],
      "metadata": {
        "id": "HHPGqsDe0tzk"
      }
    },
    {
      "cell_type": "code",
      "execution_count": 27,
      "metadata": {
        "id": "1lLyXJ27anfh"
      },
      "outputs": [],
      "source": [
        "from torch.nn.functional import dropout\n",
        "from transformers import TimeSeriesTransformerConfig, TimeSeriesTransformerForPrediction\n",
        "\n",
        "confif = None\n",
        "config = TimeSeriesTransformerConfig(\n",
        "    prediction_length=prediction_length,\n",
        "    # context length:\n",
        "    context_length=prediction_length * 2,\n",
        "    # lags coming from helper given the freq:\n",
        "    lags_sequence=[1, 2, 6, 12, 24, 24*7],\n",
        "\n",
        "    num_time_features=len(time_features) + 1,\n",
        "    # we have a single static categorical feature, namely time series ID:\n",
        "    num_static_categorical_features=1,\n",
        "    # it has 372 possible values:\n",
        "    cardinality=[len(train_dataset)],\n",
        "    # the model will learn an embedding of size 2 for each of the 372 possible values:\n",
        "    embedding_dimension=[2],\n",
        "\n",
        "    # transformer params:\n",
        "    dropout=0.3,\n",
        "    encoder_attention_heads = 4,\n",
        "    decoder_attention_heads = 4,\n",
        "    encoder_layers=8,\n",
        "    decoder_layers=8,\n",
        "    d_model=32,\n",
        ")\n",
        "\n",
        "model=None\n",
        "model = TimeSeriesTransformerForPrediction(config)"
      ]
    },
    {
      "cell_type": "code",
      "execution_count": 28,
      "metadata": {
        "colab": {
          "base_uri": "https://localhost:8080/",
          "height": 36
        },
        "id": "LLNZSev7cDfv",
        "outputId": "2e022fde-9e52-4591-bee4-2f3ad91b13f9"
      },
      "outputs": [
        {
          "output_type": "execute_result",
          "data": {
            "text/plain": [
              "'student_t'"
            ],
            "application/vnd.google.colaboratory.intrinsic+json": {
              "type": "string"
            }
          },
          "metadata": {},
          "execution_count": 28
        }
      ],
      "source": [
        "model.config.distribution_output"
      ]
    },
    {
      "cell_type": "markdown",
      "source": [
        "### Prepare Datasets for the Time Series Transform Model"
      ],
      "metadata": {
        "id": "bLpzRjrs1fNH"
      }
    },
    {
      "cell_type": "code",
      "execution_count": 29,
      "metadata": {
        "id": "7mJ_eOvWcKR_"
      },
      "outputs": [],
      "source": [
        "from gluonts.time_feature import (\n",
        "    time_features_from_frequency_str,\n",
        "    TimeFeature,\n",
        "    get_lags_for_frequency,\n",
        ")\n",
        "from gluonts.dataset.field_names import FieldName\n",
        "from gluonts.transform import (\n",
        "    AddAgeFeature,\n",
        "    AddObservedValuesIndicator,\n",
        "    AddTimeFeatures,\n",
        "    AsNumpyArray,\n",
        "    Chain,\n",
        "    ExpectedNumInstanceSampler,\n",
        "    InstanceSplitter,\n",
        "    RemoveFields,\n",
        "    SelectFields,\n",
        "    SetField,\n",
        "    TestSplitSampler,\n",
        "    Transformation,\n",
        "    ValidationSplitSampler,\n",
        "    VstackFeatures,\n",
        "    RenameFields,\n",
        ")"
      ]
    },
    {
      "cell_type": "code",
      "execution_count": 30,
      "metadata": {
        "id": "po4WGoLTcPCZ"
      },
      "outputs": [],
      "source": [
        "from transformers import PretrainedConfig\n",
        "\n",
        "def create_transformation(freq: str, config: PretrainedConfig) -> Transformation:\n",
        "    remove_field_names = []\n",
        "    if config.num_static_real_features == 0:\n",
        "        remove_field_names.append(FieldName.FEAT_STATIC_REAL)\n",
        "    if config.num_dynamic_real_features == 0:\n",
        "        remove_field_names.append(FieldName.FEAT_DYNAMIC_REAL)\n",
        "    if config.num_static_categorical_features == 0:\n",
        "        remove_field_names.append(FieldName.FEAT_STATIC_CAT)\n",
        "\n",
        "    # a bit like torchvision.transforms.Compose\n",
        "    return Chain(\n",
        "        # step 1: remove static/dynamic fields if not specified\n",
        "        [RemoveFields(field_names=remove_field_names)]\n",
        "        # step 2: convert the data to NumPy (potentially not needed)\n",
        "        + (\n",
        "            [\n",
        "                AsNumpyArray(\n",
        "                    field=FieldName.FEAT_STATIC_CAT,\n",
        "                    expected_ndim=1,\n",
        "                    dtype=int,\n",
        "                )\n",
        "            ]\n",
        "            if config.num_static_categorical_features > 0\n",
        "            else []\n",
        "        )\n",
        "        + (\n",
        "            [\n",
        "                AsNumpyArray(\n",
        "                    field=FieldName.FEAT_STATIC_REAL,\n",
        "                    expected_ndim=1,\n",
        "                )\n",
        "            ]\n",
        "            if config.num_static_real_features > 0\n",
        "            else []\n",
        "        )\n",
        "        + [\n",
        "            AsNumpyArray(\n",
        "                field=FieldName.TARGET,\n",
        "                # we expect an extra dim for the multivariate case:\n",
        "                expected_ndim=1 if config.input_size == 1 else 2,\n",
        "            ),\n",
        "            # step 3: handle the NaN's by filling in the target with zero\n",
        "            # and return the mask (which is in the observed values)\n",
        "            # true for observed values, false for nan's\n",
        "            # the decoder uses this mask (no loss is incurred for unobserved values)\n",
        "            # see loss_weights inside the xxxForPrediction model\n",
        "            AddObservedValuesIndicator(\n",
        "                target_field=FieldName.TARGET,\n",
        "                output_field=FieldName.OBSERVED_VALUES,\n",
        "            ),\n",
        "            # step 4: add temporal features based on freq of the dataset\n",
        "            # month of year in the case when freq=\"M\"\n",
        "            # these serve as positional encodings\n",
        "            AddTimeFeatures(\n",
        "                start_field=FieldName.START,\n",
        "                target_field=FieldName.TARGET,\n",
        "                output_field=FieldName.FEAT_TIME,\n",
        "                time_features=time_features_from_frequency_str(freq),\n",
        "                pred_length=config.prediction_length,\n",
        "            ),\n",
        "            # step 5: add another temporal feature (just a single number)\n",
        "            # tells the model where in its life the value of the time series is,\n",
        "            # sort of a running counter\n",
        "            AddAgeFeature(\n",
        "                target_field=FieldName.TARGET,\n",
        "                output_field=FieldName.FEAT_AGE,\n",
        "                pred_length=config.prediction_length,\n",
        "                log_scale=True,\n",
        "            ),\n",
        "            # step 6: vertically stack all the temporal features into the key FEAT_TIME\n",
        "            VstackFeatures(\n",
        "                output_field=FieldName.FEAT_TIME,\n",
        "                input_fields=[FieldName.FEAT_TIME, FieldName.FEAT_AGE]\n",
        "                + (\n",
        "                    [FieldName.FEAT_DYNAMIC_REAL]\n",
        "                    if config.num_dynamic_real_features > 0\n",
        "                    else []\n",
        "                ),\n",
        "            ),\n",
        "            # step 7: rename to match HuggingFace names\n",
        "            RenameFields(\n",
        "                mapping={\n",
        "                    FieldName.FEAT_STATIC_CAT: \"static_categorical_features\",\n",
        "                    FieldName.FEAT_STATIC_REAL: \"static_real_features\",\n",
        "                    FieldName.FEAT_TIME: \"time_features\",\n",
        "                    FieldName.TARGET: \"values\",\n",
        "                    FieldName.OBSERVED_VALUES: \"observed_mask\",\n",
        "                }\n",
        "            ),\n",
        "        ]\n",
        "    )\n"
      ]
    },
    {
      "cell_type": "code",
      "execution_count": 31,
      "metadata": {
        "id": "HQoBnL__cjMw"
      },
      "outputs": [],
      "source": [
        "from gluonts.transform.sampler import InstanceSampler\n",
        "from typing import Optional\n",
        "\n",
        "def create_instance_splitter(\n",
        "    config: PretrainedConfig,\n",
        "    mode: str,\n",
        "    train_sampler: Optional[InstanceSampler] = None,\n",
        "    validation_sampler: Optional[InstanceSampler] = None,\n",
        ") -> Transformation:\n",
        "    assert mode in [\"train\", \"validation\", \"test\"]\n",
        "\n",
        "    instance_sampler = {\n",
        "        \"train\": train_sampler\n",
        "        or ExpectedNumInstanceSampler(\n",
        "            num_instances=1.0, min_future=config.prediction_length\n",
        "        ),\n",
        "        \"validation\": validation_sampler\n",
        "        or ValidationSplitSampler(min_future=config.prediction_length),\n",
        "        \"test\": TestSplitSampler(),\n",
        "    }[mode]\n",
        "\n",
        "    return InstanceSplitter(\n",
        "        target_field=\"values\",\n",
        "        is_pad_field=FieldName.IS_PAD,\n",
        "        start_field=FieldName.START,\n",
        "        forecast_start_field=FieldName.FORECAST_START,\n",
        "        instance_sampler=instance_sampler,\n",
        "        past_length=config.context_length + max(config.lags_sequence),\n",
        "        future_length=config.prediction_length,\n",
        "        time_series_fields=[\"time_features\", \"observed_mask\"],\n",
        "    )\n"
      ]
    },
    {
      "cell_type": "code",
      "execution_count": 32,
      "metadata": {
        "id": "nPzSQVo7cqF2"
      },
      "outputs": [],
      "source": [
        "from typing import Iterable\n",
        "\n",
        "import torch\n",
        "from gluonts.itertools import Cached, Cyclic\n",
        "from gluonts.dataset.loader import as_stacked_batches\n",
        "\n",
        "\n",
        "def create_train_dataloader(\n",
        "    config: PretrainedConfig,\n",
        "    freq,\n",
        "    data,\n",
        "    batch_size: int,\n",
        "    num_batches_per_epoch: int,\n",
        "    shuffle_buffer_length: Optional[int] = None,\n",
        "    cache_data: bool = True,\n",
        "    **kwargs,\n",
        ") -> Iterable:\n",
        "    PREDICTION_INPUT_NAMES = [\n",
        "        \"past_time_features\",\n",
        "        \"past_values\",\n",
        "        \"past_observed_mask\",\n",
        "        \"future_time_features\",\n",
        "    ]\n",
        "    if config.num_static_categorical_features > 0:\n",
        "        PREDICTION_INPUT_NAMES.append(\"static_categorical_features\")\n",
        "\n",
        "    if config.num_static_real_features > 0:\n",
        "        PREDICTION_INPUT_NAMES.append(\"static_real_features\")\n",
        "\n",
        "    TRAINING_INPUT_NAMES = PREDICTION_INPUT_NAMES + [\n",
        "        \"future_values\",\n",
        "        \"future_observed_mask\",\n",
        "    ]\n",
        "\n",
        "    transformation = create_transformation(freq, config)\n",
        "    transformed_data = transformation.apply(data, is_train=True)\n",
        "    if cache_data:\n",
        "        transformed_data = Cached(transformed_data)\n",
        "\n",
        "    # we initialize a Training instance\n",
        "    instance_splitter = create_instance_splitter(config, \"train\")\n",
        "\n",
        "    # the instance splitter will sample a window of\n",
        "    # context length + lags + prediction length (from the 366 possible transformed time series)\n",
        "    # randomly from within the target time series and return an iterator.\n",
        "    stream = Cyclic(transformed_data).stream()\n",
        "    training_instances = instance_splitter.apply(\n",
        "        stream, is_train=True\n",
        "    )\n",
        "\n",
        "    return as_stacked_batches(\n",
        "        training_instances,\n",
        "        batch_size=batch_size,\n",
        "        shuffle_buffer_length=shuffle_buffer_length,\n",
        "        field_names=TRAINING_INPUT_NAMES,\n",
        "        output_type=torch.tensor,\n",
        "        num_batches_per_epoch=num_batches_per_epoch,\n",
        "    )\n"
      ]
    },
    {
      "cell_type": "code",
      "execution_count": 33,
      "metadata": {
        "id": "HuGud4GLcwAo"
      },
      "outputs": [],
      "source": [
        "def create_test_dataloader(\n",
        "    config: PretrainedConfig,\n",
        "    freq,\n",
        "    data,\n",
        "    batch_size: int,\n",
        "    **kwargs,\n",
        "):\n",
        "    PREDICTION_INPUT_NAMES = [\n",
        "        \"past_time_features\",\n",
        "        \"past_values\",\n",
        "        \"past_observed_mask\",\n",
        "        \"future_time_features\",\n",
        "    ]\n",
        "    if config.num_static_categorical_features > 0:\n",
        "        PREDICTION_INPUT_NAMES.append(\"static_categorical_features\")\n",
        "\n",
        "    if config.num_static_real_features > 0:\n",
        "        PREDICTION_INPUT_NAMES.append(\"static_real_features\")\n",
        "\n",
        "    transformation = create_transformation(freq, config)\n",
        "    transformed_data = transformation.apply(data, is_train=False)\n",
        "\n",
        "    # we create a Test Instance splitter which will sample the very last\n",
        "    # context window seen during training only for the encoder.\n",
        "    instance_sampler = create_instance_splitter(config, \"test\")\n",
        "\n",
        "    # we apply the transformations in test mode\n",
        "    testing_instances = instance_sampler.apply(transformed_data, is_train=False)\n",
        "\n",
        "    return as_stacked_batches(\n",
        "        testing_instances,\n",
        "        batch_size=batch_size,\n",
        "        output_type=torch.tensor,\n",
        "        field_names=PREDICTION_INPUT_NAMES,\n",
        "    )\n"
      ]
    },
    {
      "cell_type": "markdown",
      "metadata": {
        "id": "6KOieZ52qzbB"
      },
      "source": [
        "### Train and Test Dataloaders"
      ]
    },
    {
      "cell_type": "code",
      "execution_count": 34,
      "metadata": {
        "id": "nkUN0uudcxaO"
      },
      "outputs": [],
      "source": [
        "train_dataloader = None\n",
        "train_dataloader = create_train_dataloader(\n",
        "    config=config,\n",
        "    freq=freq,\n",
        "    data=train_dataset,\n",
        "    batch_size=256,\n",
        "    num_batches_per_epoch=100,\n",
        ")\n",
        "\n",
        "test_dataloader = None\n",
        "test_dataloader = create_test_dataloader(\n",
        "    config=config,\n",
        "    freq=freq,\n",
        "    data=test_dataset,\n",
        "    batch_size=64,\n",
        ")"
      ]
    },
    {
      "cell_type": "code",
      "execution_count": 35,
      "metadata": {
        "colab": {
          "base_uri": "https://localhost:8080/"
        },
        "id": "baYxUSwFc5ke",
        "outputId": "ff531314-6fe4-4a20-e692-84a02911b832"
      },
      "outputs": [
        {
          "output_type": "stream",
          "name": "stdout",
          "text": [
            "past_time_features torch.Size([256, 216, 5]) torch.FloatTensor\n",
            "past_values torch.Size([256, 216]) torch.FloatTensor\n",
            "past_observed_mask torch.Size([256, 216]) torch.FloatTensor\n",
            "future_time_features torch.Size([256, 24, 5]) torch.FloatTensor\n",
            "static_categorical_features torch.Size([256, 1]) torch.LongTensor\n",
            "future_values torch.Size([256, 24]) torch.FloatTensor\n",
            "future_observed_mask torch.Size([256, 24]) torch.FloatTensor\n"
          ]
        }
      ],
      "source": [
        "batch=None\n",
        "batch = next(iter(train_dataloader))\n",
        "for k, v in batch.items():\n",
        "    print(k, v.shape, v.type())\n"
      ]
    },
    {
      "cell_type": "markdown",
      "metadata": {
        "id": "-LOWCmH_rAsN"
      },
      "source": [
        "### Perform a Single Forward Pass"
      ]
    },
    {
      "cell_type": "code",
      "execution_count": 36,
      "metadata": {
        "id": "pU7BoavWc-cv"
      },
      "outputs": [],
      "source": [
        "# perform forward pass\n",
        "outputs=None\n",
        "outputs = model(\n",
        "    past_values=batch[\"past_values\"],\n",
        "    past_time_features=batch[\"past_time_features\"],\n",
        "    past_observed_mask=batch[\"past_observed_mask\"],\n",
        "    static_categorical_features=batch[\"static_categorical_features\"]\n",
        "    if config.num_static_categorical_features > 0\n",
        "    else None,\n",
        "    static_real_features=batch[\"static_real_features\"]\n",
        "    if config.num_static_real_features > 0\n",
        "    else None,\n",
        "    future_values=batch[\"future_values\"],\n",
        "    future_time_features=batch[\"future_time_features\"],\n",
        "    future_observed_mask=batch[\"future_observed_mask\"],\n",
        "    output_hidden_states=True,\n",
        ")\n"
      ]
    },
    {
      "cell_type": "code",
      "execution_count": 37,
      "metadata": {
        "colab": {
          "base_uri": "https://localhost:8080/"
        },
        "id": "8ClSLYbNgV5m",
        "outputId": "02e827e4-6563-467b-87cd-c7a1113e1fb9"
      },
      "outputs": [
        {
          "output_type": "stream",
          "name": "stdout",
          "text": [
            "Loss: 1.6785813570022583\n"
          ]
        }
      ],
      "source": [
        "print(\"Loss:\", outputs.loss.item())"
      ]
    },
    {
      "cell_type": "markdown",
      "metadata": {
        "id": "SnvCk-4nUUAy"
      },
      "source": [
        "### Train The Model"
      ]
    },
    {
      "cell_type": "code",
      "execution_count": 38,
      "metadata": {
        "colab": {
          "base_uri": "https://localhost:8080/"
        },
        "id": "hPhONo-UiUfX",
        "outputId": "b92f8cc7-3e23-43c4-fa54-7806b42f377a"
      },
      "outputs": [
        {
          "output_type": "stream",
          "name": "stdout",
          "text": [
            "Training\n",
            "[========================================]\n"
          ]
        }
      ],
      "source": [
        "from accelerate import Accelerator\n",
        "from torch.optim import AdamW\n",
        "\n",
        "epochs = 40\n",
        "loss_history = []\n",
        "\n",
        "accelerator = Accelerator()\n",
        "device = accelerator.device\n",
        "\n",
        "model.to(device)\n",
        "optimizer = None\n",
        "optimizer = AdamW(model.parameters(), lr=6e-4, betas=(0.9, 0.95), weight_decay=1e-1)\n",
        "\n",
        "model, optimizer, train_dataloader = accelerator.prepare(\n",
        "    model,\n",
        "    optimizer,\n",
        "    train_dataloader,\n",
        ")\n",
        "\n",
        "model.train()\n",
        "print(\"Training\")\n",
        "print(\"[\", end=\"\")\n",
        "for epoch in range(epochs):\n",
        "    for idx, batch in enumerate(train_dataloader):\n",
        "        optimizer.zero_grad()\n",
        "        outputs = model(\n",
        "          static_categorical_features=batch[\"static_categorical_features\"].to(device)\n",
        "          if config.num_static_categorical_features > 0\n",
        "          else None,\n",
        "          static_real_features=batch[\"static_real_features\"].to(device)\n",
        "          if config.num_static_real_features > 0\n",
        "          else None,\n",
        "          past_time_features=batch[\"past_time_features\"].to(device),\n",
        "          past_values=batch[\"past_values\"].to(device),\n",
        "          future_time_features=batch[\"future_time_features\"].to(device),\n",
        "          future_values=batch[\"future_values\"].to(device),\n",
        "          past_observed_mask=batch[\"past_observed_mask\"].to(device),\n",
        "          future_observed_mask=batch[\"future_observed_mask\"].to(device),\n",
        "        )\n",
        "        loss = outputs.loss\n",
        "\n",
        "        # Backpropagation\n",
        "        accelerator.backward(loss)\n",
        "        optimizer.step()\n",
        "\n",
        "        loss_history.append(loss.item())\n",
        "\n",
        "        if idx % 100 == 0:\n",
        "            print(\"=\", end=\"\")\n",
        "print(\"]\")"
      ]
    },
    {
      "cell_type": "markdown",
      "metadata": {
        "id": "y_Pw1mtVrP8g"
      },
      "source": [
        "### View Training Results"
      ]
    },
    {
      "cell_type": "code",
      "execution_count": 39,
      "metadata": {
        "colab": {
          "base_uri": "https://localhost:8080/",
          "height": 489
        },
        "id": "YnN2i7KsUbf3",
        "outputId": "636614d7-736f-4a2e-b935-7f9c1958a45b"
      },
      "outputs": [
        {
          "output_type": "display_data",
          "data": {
            "text/plain": [
              "<Figure size 1000x500 with 1 Axes>"
            ],
            "image/png": "[encoded data removed]"
          },
          "metadata": {}
        }
      ],
      "source": [
        "# view training\n",
        "loss_history = np.array(loss_history).reshape(-1)\n",
        "x = range(loss_history.shape[0])\n",
        "plt.figure(figsize=(10, 5))\n",
        "plt.plot(x, loss_history, label=\"train\")\n",
        "plt.title(\"Loss\", fontsize=15)\n",
        "plt.legend(loc=\"upper right\")\n",
        "plt.xlabel(\"Iteration\")\n",
        "plt.ylabel(\"Negative Log Loss\")\n",
        "plt.show()"
      ]
    },
    {
      "cell_type": "markdown",
      "metadata": {
        "id": "jHPYFRjk4vbl"
      },
      "source": [
        "### Inference"
      ]
    },
    {
      "cell_type": "code",
      "execution_count": 40,
      "metadata": {
        "id": "aUVfUzG4oHOS"
      },
      "outputs": [],
      "source": [
        "model.eval()\n",
        "\n",
        "forecasts = []\n",
        "\n",
        "for batch in test_dataloader:\n",
        "    outputs = model.generate(\n",
        "        static_categorical_features=batch[\"static_categorical_features\"].to(device)\n",
        "        if config.num_static_categorical_features > 0\n",
        "        else None,\n",
        "        static_real_features=batch[\"static_real_features\"].to(device)\n",
        "        if config.num_static_real_features > 0\n",
        "        else None,\n",
        "        past_time_features=batch[\"past_time_features\"].to(device),\n",
        "        past_values=batch[\"past_values\"].to(device),\n",
        "        future_time_features=batch[\"future_time_features\"].to(device),\n",
        "        past_observed_mask=batch[\"past_observed_mask\"].to(device),\n",
        "    )\n",
        "    forecasts.append(outputs.sequences.cpu().numpy())\n"
      ]
    },
    {
      "cell_type": "code",
      "execution_count": 41,
      "metadata": {
        "colab": {
          "base_uri": "https://localhost:8080/"
        },
        "id": "cGYtZ9db46lk",
        "outputId": "90dd7dcf-0c46-47f7-de7d-5a1dbebe480a"
      },
      "outputs": [
        {
          "output_type": "stream",
          "name": "stdout",
          "text": [
            "(372, 100, 24)\n"
          ]
        }
      ],
      "source": [
        "forecasts = np.vstack(forecasts)\n",
        "print(forecasts.shape)"
      ]
    },
    {
      "cell_type": "markdown",
      "metadata": {
        "id": "6PJjotzH5GTx"
      },
      "source": [
        "### Plot Prediction vs Ground Truth"
      ]
    },
    {
      "cell_type": "code",
      "execution_count": 42,
      "metadata": {
        "colab": {
          "base_uri": "https://localhost:8080/",
          "height": 430
        },
        "id": "aHTcTZKf48AD",
        "outputId": "be69f4ab-4491-4e2e-e3f1-938a5f5c08dc"
      },
      "outputs": [
        {
          "output_type": "display_data",
          "data": {
            "text/plain": [
              "<Figure size 640x480 with 1 Axes>"
            ],
            "image/png": "[encoded data removed]"
          },
          "metadata": {}
        }
      ],
      "source": [
        "import matplotlib.dates as mdates\n",
        "\n",
        "def plot(ts_index):\n",
        "    fig, ax = plt.subplots()\n",
        "\n",
        "    index = pd.period_range(\n",
        "        start=test_dataset[ts_index][FieldName.START],\n",
        "        periods=len(test_dataset[ts_index][FieldName.TARGET]),\n",
        "        freq=freq,\n",
        "    ).to_timestamp()\n",
        "\n",
        "    # Major ticks every half year, minor ticks every month,\n",
        "    ax.xaxis.set_major_locator(mdates.MonthLocator(bymonth=(1, 7)))\n",
        "    ax.xaxis.set_minor_locator(mdates.MonthLocator())\n",
        "\n",
        "    ax.plot(\n",
        "        index[-2*prediction_length:],\n",
        "        test_dataset[ts_index][\"target\"][-2*prediction_length:],\n",
        "        label=\"actual\",\n",
        "    )\n",
        "\n",
        "    plt.plot(\n",
        "        index[-prediction_length:],\n",
        "        np.median(forecasts[ts_index], axis=0),\n",
        "        label=\"median\",\n",
        "    )\n",
        "\n",
        "    plt.fill_between(\n",
        "        index[-prediction_length:],\n",
        "        forecasts[ts_index].mean(0) - forecasts[ts_index].std(axis=0),\n",
        "        forecasts[ts_index].mean(0) + forecasts[ts_index].std(axis=0),\n",
        "        alpha=0.3,\n",
        "        interpolate=True,\n",
        "        label=\"+/- 1-std\",\n",
        "    )\n",
        "    plt.legend()\n",
        "    plt.show()\n",
        "\n",
        "\n",
        "plot(5)"
      ]
    },
    {
      "cell_type": "code",
      "execution_count": 42,
      "metadata": {
        "id": "zKBZRCqn5Z_f"
      },
      "outputs": [],
      "source": []
    }
  ],
  "metadata": {
    "colab": {
      "machine_shape": "hm",
      "provenance": [],
      "authorship_tag": "ABX9TyO0nx9VfYTx85I3UacyUuOi",
      "include_colab_link": true
    },
    "kernelspec": {
      "display_name": "Python 3",
      "name": "python3"
    },
    "language_info": {
      "name": "python"
    }
  },
  "nbformat": 4,
  "nbformat_minor": 0
}